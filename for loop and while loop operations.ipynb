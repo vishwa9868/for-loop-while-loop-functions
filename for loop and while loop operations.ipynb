{
 "cells": [
  {
   "cell_type": "markdown",
   "id": "c0875cbe",
   "metadata": {},
   "source": [
    "# for loop,while loop functions and  operations"
   ]
  },
  {
   "cell_type": "code",
   "execution_count": 70,
   "id": "60016626",
   "metadata": {},
   "outputs": [],
   "source": [
    "l =[1,2,3,4,'vish','patil',23.45]\n"
   ]
  },
  {
   "cell_type": "code",
   "execution_count": 71,
   "id": "680ed8a0",
   "metadata": {},
   "outputs": [
    {
     "name": "stdout",
     "output_type": "stream",
     "text": [
      "1\n",
      "2\n",
      "3\n",
      "4\n",
      "vish\n",
      "patil\n",
      "23.45\n"
     ]
    }
   ],
   "source": [
    "for i in l:\n",
    "    print(i)"
   ]
  },
  {
   "cell_type": "code",
   "execution_count": 72,
   "id": "eb9a9ba6",
   "metadata": {},
   "outputs": [],
   "source": [
    "for i in l :\n",
    "    pass"
   ]
  },
  {
   "cell_type": "code",
   "execution_count": 73,
   "id": "f0b504fa",
   "metadata": {},
   "outputs": [
    {
     "name": "stdout",
     "output_type": "stream",
     "text": [
      "v\n",
      "i\n",
      "s\n",
      "h\n"
     ]
    }
   ],
   "source": [
    "v= \"vish\"\n",
    "for i in v:\n",
    "    print(i)\n"
   ]
  },
  {
   "cell_type": "code",
   "execution_count": 74,
   "id": "0a13e768",
   "metadata": {},
   "outputs": [
    {
     "name": "stdout",
     "output_type": "stream",
     "text": [
      "1\n",
      "2\n",
      "3\n",
      "4\n",
      "vish\n",
      "patil\n",
      "23.45\n",
      "if for loop is going to complete itself the it will execute else\n"
     ]
    }
   ],
   "source": [
    "for i in l:\n",
    "    print(i)\n",
    "else :\n",
    "    print(\"if for loop is going to complete itself the it will execute else\")"
   ]
  },
  {
   "cell_type": "code",
   "execution_count": 75,
   "id": "3494b9b3",
   "metadata": {},
   "outputs": [
    {
     "data": {
      "text/plain": [
       "[1, 2, 3, 4, 'vish', 'patil', 23.45]"
      ]
     },
     "execution_count": 75,
     "metadata": {},
     "output_type": "execute_result"
    }
   ],
   "source": [
    "l"
   ]
  },
  {
   "cell_type": "code",
   "execution_count": 76,
   "id": "2c2a0230",
   "metadata": {},
   "outputs": [
    {
     "name": "stdout",
     "output_type": "stream",
     "text": [
      "1\n",
      "2\n",
      "3\n"
     ]
    }
   ],
   "source": [
    "for i in l :\n",
    "    if i == 4:\n",
    "        break\n",
    "    print(i)\n",
    "else:\n",
    "    print(\"if for loop is going to complete itself the it will execute else\")"
   ]
  },
  {
   "cell_type": "code",
   "execution_count": 77,
   "id": "f2b7bb78",
   "metadata": {},
   "outputs": [
    {
     "name": "stdout",
     "output_type": "stream",
     "text": [
      "v\n",
      "i\n",
      "s\n",
      "h\n",
      "w\n",
      "a\n"
     ]
    }
   ],
   "source": [
    "v = 'vishwanath'\n",
    "for i in v:\n",
    "    if i == 'n' :\n",
    "        break\n",
    "    print(i)\n",
    "else :\n",
    "    print(\"print string\",v)"
   ]
  },
  {
   "cell_type": "code",
   "execution_count": 78,
   "id": "67047baf",
   "metadata": {},
   "outputs": [
    {
     "name": "stdout",
     "output_type": "stream",
     "text": [
      "v\n",
      "i\n",
      "s\n",
      "h\n",
      "w\n",
      "a\n",
      "n\n",
      "a\n",
      "t\n",
      "h\n",
      "print string vishwanath\n"
     ]
    }
   ],
   "source": [
    "v = 'vishwanath'\n",
    "for i in v:\n",
    "    if i == 'z' :\n",
    "        break\n",
    "    print(i)\n",
    "else :\n",
    "    print(\"print string\",v)"
   ]
  },
  {
   "cell_type": "code",
   "execution_count": 79,
   "id": "82ce2df6",
   "metadata": {},
   "outputs": [
    {
     "name": "stdout",
     "output_type": "stream",
     "text": [
      "4\n",
      "5\n",
      "6\n",
      "7\n",
      "8\n",
      "6\n",
      "vish\n"
     ]
    }
   ],
   "source": [
    "t = (4,5,6,7,8,6,\"vish\")\n",
    "for i in t:\n",
    "    print(i)"
   ]
  },
  {
   "cell_type": "code",
   "execution_count": 80,
   "id": "7b620008",
   "metadata": {},
   "outputs": [],
   "source": [
    "s= {4,5,6,7,7,7,7,7,8,'vish'}"
   ]
  },
  {
   "cell_type": "code",
   "execution_count": 81,
   "id": "9724c7b4",
   "metadata": {},
   "outputs": [
    {
     "data": {
      "text/plain": [
       "set"
      ]
     },
     "execution_count": 81,
     "metadata": {},
     "output_type": "execute_result"
    }
   ],
   "source": [
    "type(s)"
   ]
  },
  {
   "cell_type": "code",
   "execution_count": 82,
   "id": "69db980e",
   "metadata": {},
   "outputs": [
    {
     "data": {
      "text/plain": [
       "{4, 5, 6, 7, 8, 'vish'}"
      ]
     },
     "execution_count": 82,
     "metadata": {},
     "output_type": "execute_result"
    }
   ],
   "source": [
    "s"
   ]
  },
  {
   "cell_type": "code",
   "execution_count": 83,
   "id": "f6cf2e37",
   "metadata": {},
   "outputs": [
    {
     "name": "stdout",
     "output_type": "stream",
     "text": [
      "4\n",
      "5\n",
      "6\n",
      "7\n",
      "8\n",
      "vish\n"
     ]
    }
   ],
   "source": [
    "for i in s:\n",
    "    print(i)"
   ]
  },
  {
   "cell_type": "code",
   "execution_count": 84,
   "id": "d7985a39",
   "metadata": {},
   "outputs": [],
   "source": [
    "d= {\"key1\":\"vish\",\"contact\":\"vishwanathpatil@gmail.com\",\"postion\":\"xyz\"}"
   ]
  },
  {
   "cell_type": "code",
   "execution_count": 85,
   "id": "9cdfae6c",
   "metadata": {},
   "outputs": [
    {
     "name": "stdout",
     "output_type": "stream",
     "text": [
      "key1\n",
      "contact\n",
      "postion\n"
     ]
    }
   ],
   "source": [
    "for i in d:\n",
    "    print(i)"
   ]
  },
  {
   "cell_type": "code",
   "execution_count": 86,
   "id": "e2fe535a",
   "metadata": {},
   "outputs": [
    {
     "data": {
      "text/plain": [
       "'vish'"
      ]
     },
     "execution_count": 86,
     "metadata": {},
     "output_type": "execute_result"
    }
   ],
   "source": [
    "d['key1']"
   ]
  },
  {
   "cell_type": "code",
   "execution_count": 87,
   "id": "5bf1f35c",
   "metadata": {},
   "outputs": [
    {
     "name": "stdout",
     "output_type": "stream",
     "text": [
      "vish\n",
      "vishwanathpatil@gmail.com\n",
      "xyz\n"
     ]
    }
   ],
   "source": [
    "for i in d:\n",
    "    print(d[i])"
   ]
  },
  {
   "cell_type": "code",
   "execution_count": 88,
   "id": "83b3bc1b",
   "metadata": {},
   "outputs": [
    {
     "name": "stdout",
     "output_type": "stream",
     "text": [
      "key1 vish\n",
      "contact vishwanathpatil@gmail.com\n",
      "postion xyz\n"
     ]
    }
   ],
   "source": [
    "for i in d:\n",
    "    print(i,d[i])"
   ]
  },
  {
   "cell_type": "code",
   "execution_count": 89,
   "id": "68a94dbe",
   "metadata": {},
   "outputs": [
    {
     "name": "stdout",
     "output_type": "stream",
     "text": [
      "key1 : vish\n",
      "contact : vishwanathpatil@gmail.com\n",
      "postion : xyz\n"
     ]
    }
   ],
   "source": [
    "for i in d:\n",
    "    print(i, \":\",d[i])"
   ]
  },
  {
   "cell_type": "code",
   "execution_count": 90,
   "id": "be00e8dc",
   "metadata": {},
   "outputs": [
    {
     "data": {
      "text/plain": [
       "range(0, 9)"
      ]
     },
     "execution_count": 90,
     "metadata": {},
     "output_type": "execute_result"
    }
   ],
   "source": [
    "range(0,9)"
   ]
  },
  {
   "cell_type": "code",
   "execution_count": 91,
   "id": "a4c8ac45",
   "metadata": {},
   "outputs": [
    {
     "data": {
      "text/plain": [
       "[0, 1, 2, 3, 4, 5, 6, 7, 8]"
      ]
     },
     "execution_count": 91,
     "metadata": {},
     "output_type": "execute_result"
    }
   ],
   "source": [
    "list(range(9))"
   ]
  },
  {
   "cell_type": "code",
   "execution_count": 92,
   "id": "52a6042e",
   "metadata": {},
   "outputs": [
    {
     "name": "stdout",
     "output_type": "stream",
     "text": [
      "0\n",
      "1\n",
      "2\n",
      "3\n",
      "4\n",
      "5\n",
      "6\n",
      "7\n",
      "8\n"
     ]
    }
   ],
   "source": [
    "for i in range(9):\n",
    "    print(i)"
   ]
  },
  {
   "cell_type": "code",
   "execution_count": 93,
   "id": "458c2c47",
   "metadata": {},
   "outputs": [
    {
     "data": {
      "text/plain": [
       "[0, 1, 2, 3, 4, 5, 6, 7, 8]"
      ]
     },
     "execution_count": 93,
     "metadata": {},
     "output_type": "execute_result"
    }
   ],
   "source": [
    "list (range(0,9))"
   ]
  },
  {
   "cell_type": "code",
   "execution_count": 94,
   "id": "5d45f859",
   "metadata": {},
   "outputs": [
    {
     "data": {
      "text/plain": [
       "[0, 2, 4, 6, 8]"
      ]
     },
     "execution_count": 94,
     "metadata": {},
     "output_type": "execute_result"
    }
   ],
   "source": [
    "list(range(0,9,2))"
   ]
  },
  {
   "cell_type": "code",
   "execution_count": 95,
   "id": "91fb9d7e",
   "metadata": {},
   "outputs": [
    {
     "data": {
      "text/plain": [
       "[]"
      ]
     },
     "execution_count": 95,
     "metadata": {},
     "output_type": "execute_result"
    }
   ],
   "source": [
    "list(range(0,9,-1))"
   ]
  },
  {
   "cell_type": "code",
   "execution_count": 96,
   "id": "a2a42863",
   "metadata": {},
   "outputs": [
    {
     "data": {
      "text/plain": [
       "[9, 8, 7, 6, 5, 4, 3, 2, 1]"
      ]
     },
     "execution_count": 96,
     "metadata": {},
     "output_type": "execute_result"
    }
   ],
   "source": [
    "list(range(9,0,-1))"
   ]
  },
  {
   "cell_type": "code",
   "execution_count": 97,
   "id": "fdca0b9d",
   "metadata": {},
   "outputs": [
    {
     "name": "stdout",
     "output_type": "stream",
     "text": [
      "vish \n",
      "\n",
      "vish vish \n",
      "\n",
      "vish vish vish \n",
      "\n",
      "vish vish vish vish \n",
      "\n"
     ]
    }
   ],
   "source": [
    "n = 4\n",
    "for i in range(4):\n",
    "    for j in range(0,i+1):\n",
    "        print(\"vish\", end= \" \")\n",
    "    print(\"\\n\")"
   ]
  },
  {
   "cell_type": "code",
   "execution_count": 98,
   "id": "58e75af5",
   "metadata": {},
   "outputs": [
    {
     "name": "stdout",
     "output_type": "stream",
     "text": [
      "          vish \n",
      "\n",
      "     vish vish vish \n",
      "\n",
      "vish vish vish vish vish \n",
      "\n"
     ]
    }
   ],
   "source": [
    "n = 3 \n",
    "for i in range(n):\n",
    "    for j in range(i, n-1):\n",
    "        print(\" \" * len(\"vish\"),end=\" \")\n",
    "    for j in range(i+1):\n",
    "        print(\"vish\",end=\" \")\n",
    "    for j in range(i):\n",
    "        print(\"vish\",end=\" \")\n",
    "    print(\"\\n\")"
   ]
  },
  {
   "cell_type": "code",
   "execution_count": 99,
   "id": "53beceb3",
   "metadata": {},
   "outputs": [],
   "source": [
    "t=(3,23,45,67,2,4,5,6)"
   ]
  },
  {
   "cell_type": "code",
   "execution_count": 100,
   "id": "cf6ccb38",
   "metadata": {},
   "outputs": [
    {
     "name": "stdout",
     "output_type": "stream",
     "text": [
      "0 3\n",
      "1 23\n",
      "2 45\n",
      "3 67\n",
      "4 2\n",
      "5 4\n",
      "6 5\n",
      "7 6\n"
     ]
    }
   ],
   "source": [
    "for i in range(len(t)):\n",
    "    print(i,t[i])\n",
    "    "
   ]
  },
  {
   "cell_type": "code",
   "execution_count": 101,
   "id": "78c462c1",
   "metadata": {},
   "outputs": [
    {
     "data": {
      "text/plain": [
       "(3, 23, 45, 67, 2, 4, 5, 6)"
      ]
     },
     "execution_count": 101,
     "metadata": {},
     "output_type": "execute_result"
    }
   ],
   "source": [
    "t"
   ]
  },
  {
   "cell_type": "code",
   "execution_count": 102,
   "id": "cdb320c6",
   "metadata": {},
   "outputs": [
    {
     "data": {
      "text/plain": [
       "8"
      ]
     },
     "execution_count": 102,
     "metadata": {},
     "output_type": "execute_result"
    }
   ],
   "source": [
    "len(t)"
   ]
  },
  {
   "cell_type": "code",
   "execution_count": 103,
   "id": "ee1eb15e",
   "metadata": {},
   "outputs": [
    {
     "data": {
      "text/plain": [
       "range(0, 8)"
      ]
     },
     "execution_count": 103,
     "metadata": {},
     "output_type": "execute_result"
    }
   ],
   "source": [
    "range(len(t))"
   ]
  },
  {
   "cell_type": "code",
   "execution_count": 104,
   "id": "41c5dc97",
   "metadata": {},
   "outputs": [
    {
     "data": {
      "text/plain": [
       "[0, 1, 2, 3, 4, 5, 6, 7]"
      ]
     },
     "execution_count": 104,
     "metadata": {},
     "output_type": "execute_result"
    }
   ],
   "source": [
    "list(range(len(t)))"
   ]
  },
  {
   "cell_type": "code",
   "execution_count": 105,
   "id": "adb2bc68",
   "metadata": {},
   "outputs": [],
   "source": [
    "v='patil'"
   ]
  },
  {
   "cell_type": "code",
   "execution_count": 106,
   "id": "56244237",
   "metadata": {},
   "outputs": [
    {
     "name": "stdout",
     "output_type": "stream",
     "text": [
      "0 p\n",
      "1 a\n",
      "2 t\n",
      "3 i\n",
      "4 l\n"
     ]
    }
   ],
   "source": [
    "v='patil'\n",
    "for i in range(len(v)):\n",
    "    print(i,v[i])"
   ]
  },
  {
   "cell_type": "code",
   "execution_count": 107,
   "id": "4767d5fc",
   "metadata": {},
   "outputs": [
    {
     "ename": "TypeError",
     "evalue": "'set' object is not subscriptable",
     "output_type": "error",
     "traceback": [
      "\u001b[1;31m---------------------------------------------------------------------------\u001b[0m",
      "\u001b[1;31mTypeError\u001b[0m                                 Traceback (most recent call last)",
      "\u001b[1;32m~\\AppData\\Local\\Temp\\ipykernel_8652\\400131566.py\u001b[0m in \u001b[0;36m<module>\u001b[1;34m\u001b[0m\n\u001b[0;32m      1\u001b[0m \u001b[1;32mfor\u001b[0m \u001b[0mi\u001b[0m \u001b[1;32min\u001b[0m \u001b[0mrange\u001b[0m\u001b[1;33m(\u001b[0m\u001b[0mlen\u001b[0m\u001b[1;33m(\u001b[0m\u001b[0mv\u001b[0m\u001b[1;33m)\u001b[0m\u001b[1;33m-\u001b[0m\u001b[1;36m1\u001b[0m\u001b[1;33m,\u001b[0m\u001b[1;33m-\u001b[0m\u001b[1;36m1\u001b[0m\u001b[1;33m,\u001b[0m\u001b[1;33m-\u001b[0m\u001b[1;36m1\u001b[0m\u001b[1;33m)\u001b[0m\u001b[1;33m:\u001b[0m\u001b[1;33m\u001b[0m\u001b[1;33m\u001b[0m\u001b[0m\n\u001b[1;32m----> 2\u001b[1;33m     \u001b[0mprint\u001b[0m\u001b[1;33m(\u001b[0m\u001b[0mi\u001b[0m\u001b[1;33m,\u001b[0m\u001b[0ms\u001b[0m\u001b[1;33m[\u001b[0m\u001b[0mi\u001b[0m\u001b[1;33m]\u001b[0m\u001b[1;33m)\u001b[0m\u001b[1;33m\u001b[0m\u001b[1;33m\u001b[0m\u001b[0m\n\u001b[0m",
      "\u001b[1;31mTypeError\u001b[0m: 'set' object is not subscriptable"
     ]
    }
   ],
   "source": [
    "for i in range(len(v)-1,-1,-1):\n",
    "    print(i,s[i])"
   ]
  },
  {
   "cell_type": "code",
   "execution_count": 108,
   "id": "f17dd140",
   "metadata": {},
   "outputs": [
    {
     "name": "stdout",
     "output_type": "stream",
     "text": [
      "key1 vish\n",
      "contact vishwanathpatil@gmail.com\n",
      "postion xyz\n"
     ]
    }
   ],
   "source": [
    "for i in d:\n",
    "    print(i, d[i])"
   ]
  },
  {
   "cell_type": "code",
   "execution_count": 109,
   "id": "450fe4bc",
   "metadata": {},
   "outputs": [
    {
     "data": {
      "text/plain": [
       "dict_items([('key1', 'vish'), ('contact', 'vishwanathpatil@gmail.com'), ('postion', 'xyz')])"
      ]
     },
     "execution_count": 109,
     "metadata": {},
     "output_type": "execute_result"
    }
   ],
   "source": [
    "d.items()"
   ]
  },
  {
   "cell_type": "code",
   "execution_count": 110,
   "id": "d3e37c88",
   "metadata": {},
   "outputs": [
    {
     "name": "stdout",
     "output_type": "stream",
     "text": [
      "('key1', 'vish')\n",
      "('contact', 'vishwanathpatil@gmail.com')\n",
      "('postion', 'xyz')\n"
     ]
    }
   ],
   "source": [
    "for i in d.items():\n",
    "    print(i)"
   ]
  },
  {
   "cell_type": "code",
   "execution_count": 111,
   "id": "9cf906b1",
   "metadata": {},
   "outputs": [
    {
     "name": "stdout",
     "output_type": "stream",
     "text": [
      "('key1', 'vish') <class 'tuple'> <class 'str'>\n",
      "('contact', 'vishwanathpatil@gmail.com') <class 'tuple'> <class 'str'>\n",
      "('postion', 'xyz') <class 'tuple'> <class 'str'>\n"
     ]
    }
   ],
   "source": [
    "for i in d.items():\n",
    "    print(i,type(i),type(i[1]))"
   ]
  },
  {
   "cell_type": "code",
   "execution_count": null,
   "id": "6c0fc99f",
   "metadata": {},
   "outputs": [],
   "source": [
    "d"
   ]
  },
  {
   "cell_type": "code",
   "execution_count": null,
   "id": "a2e5d5c3",
   "metadata": {},
   "outputs": [],
   "source": [
    "l=[\"vish\",'patil',2323435,\"vishwanathaptil123@\",234,456678]\n",
    "l1=[]"
   ]
  },
  {
   "cell_type": "code",
   "execution_count": null,
   "id": "2a8be75e",
   "metadata": {},
   "outputs": [],
   "source": [
    "for i in l:\n",
    "    if type(i)== int:\n",
    "        l1.append(i)"
   ]
  },
  {
   "cell_type": "code",
   "execution_count": null,
   "id": "165b14f9",
   "metadata": {},
   "outputs": [],
   "source": [
    "l1"
   ]
  },
  {
   "cell_type": "code",
   "execution_count": 45,
   "id": "e567d34a",
   "metadata": {},
   "outputs": [],
   "source": [
    "d= {1:12345,\"name\":\"vishwa\",\"mail-id\":\"vishwa123@gmail.com\",234 :\"fsdsfsds\",\"43\":\"fsds\",234:\"234567\"}"
   ]
  },
  {
   "cell_type": "code",
   "execution_count": 46,
   "id": "4efa19b1",
   "metadata": {},
   "outputs": [
    {
     "data": {
      "text/plain": [
       "dict_values([12345, 'vishwa', 'vishwa123@gmail.com', '234567', 'fsds'])"
      ]
     },
     "execution_count": 46,
     "metadata": {},
     "output_type": "execute_result"
    }
   ],
   "source": [
    "d.values()"
   ]
  },
  {
   "cell_type": "code",
   "execution_count": 47,
   "id": "5f12e928",
   "metadata": {},
   "outputs": [
    {
     "data": {
      "text/plain": [
       "dict_items([(1, 12345), ('name', 'vishwa'), ('mail-id', 'vishwa123@gmail.com'), (234, '234567'), ('43', 'fsds')])"
      ]
     },
     "execution_count": 47,
     "metadata": {},
     "output_type": "execute_result"
    }
   ],
   "source": [
    "d.items()"
   ]
  },
  {
   "cell_type": "code",
   "execution_count": 48,
   "id": "6320e2df",
   "metadata": {},
   "outputs": [
    {
     "name": "stdout",
     "output_type": "stream",
     "text": [
      "1   12345\n",
      "234   234567\n"
     ]
    }
   ],
   "source": [
    "for i in d:\n",
    "    if type(i)== int:\n",
    "        print(i,\" \",d[i])"
   ]
  },
  {
   "cell_type": "code",
   "execution_count": 49,
   "id": "16b8aa27",
   "metadata": {},
   "outputs": [],
   "source": [
    "v = \"aaaabbccd\""
   ]
  },
  {
   "cell_type": "code",
   "execution_count": 50,
   "id": "1703dd56",
   "metadata": {},
   "outputs": [
    {
     "data": {
      "text/plain": [
       "{'a', 'b', 'c', 'd'}"
      ]
     },
     "execution_count": 50,
     "metadata": {},
     "output_type": "execute_result"
    }
   ],
   "source": [
    "set(v)"
   ]
  },
  {
   "cell_type": "code",
   "execution_count": 51,
   "id": "6a1488a6",
   "metadata": {},
   "outputs": [
    {
     "data": {
      "text/plain": [
       "4"
      ]
     },
     "execution_count": 51,
     "metadata": {},
     "output_type": "execute_result"
    }
   ],
   "source": [
    "v.count('a')"
   ]
  },
  {
   "cell_type": "code",
   "execution_count": 52,
   "id": "145d06e9",
   "metadata": {},
   "outputs": [
    {
     "name": "stdout",
     "output_type": "stream",
     "text": [
      "b : 2\n",
      "d : 1\n",
      "a : 4\n",
      "c : 2\n"
     ]
    }
   ],
   "source": [
    "for i in set(v):\n",
    "    print(i , \":\", v.count(i))\n"
   ]
  },
  {
   "cell_type": "code",
   "execution_count": 53,
   "id": "e32af6a2",
   "metadata": {},
   "outputs": [],
   "source": [
    "m = 13243434556565"
   ]
  },
  {
   "cell_type": "code",
   "execution_count": 54,
   "id": "a9820a8e",
   "metadata": {},
   "outputs": [
    {
     "data": {
      "text/plain": [
       "'13243434556565'"
      ]
     },
     "execution_count": 54,
     "metadata": {},
     "output_type": "execute_result"
    }
   ],
   "source": [
    "str(m)"
   ]
  },
  {
   "cell_type": "code",
   "execution_count": 55,
   "id": "2e25a351",
   "metadata": {},
   "outputs": [
    {
     "name": "stdout",
     "output_type": "stream",
     "text": [
      "1\n",
      "3\n",
      "2\n",
      "4\n",
      "3\n",
      "4\n",
      "3\n",
      "4\n",
      "5\n",
      "5\n",
      "6\n",
      "5\n",
      "6\n",
      "5\n"
     ]
    }
   ],
   "source": [
    "for j in str(m):\n",
    "    print(j)"
   ]
  },
  {
   "cell_type": "code",
   "execution_count": 56,
   "id": "c9cfc9bf",
   "metadata": {},
   "outputs": [
    {
     "name": "stdout",
     "output_type": "stream",
     "text": [
      "1 <class 'int'>\n",
      "3 <class 'int'>\n",
      "2 <class 'int'>\n",
      "4 <class 'int'>\n",
      "3 <class 'int'>\n",
      "4 <class 'int'>\n",
      "3 <class 'int'>\n",
      "4 <class 'int'>\n",
      "5 <class 'int'>\n",
      "5 <class 'int'>\n",
      "6 <class 'int'>\n",
      "5 <class 'int'>\n",
      "6 <class 'int'>\n",
      "5 <class 'int'>\n"
     ]
    }
   ],
   "source": [
    "for j in str(m):\n",
    "    print(int(j),type(int(j)))"
   ]
  },
  {
   "cell_type": "code",
   "execution_count": 57,
   "id": "65187090",
   "metadata": {},
   "outputs": [],
   "source": [
    "t = (\"vish\",\"patil\",[1,2,3,4,5],(3,4,5,6),{3:3,\"key1\":\"vish\",\"key2\":\"patil\"})"
   ]
  },
  {
   "cell_type": "code",
   "execution_count": 58,
   "id": "59968a51",
   "metadata": {},
   "outputs": [
    {
     "data": {
      "text/plain": [
       "(3, 3)"
      ]
     },
     "execution_count": 58,
     "metadata": {},
     "output_type": "execute_result"
    }
   ],
   "source": [
    "t[2][2],[3][0]"
   ]
  },
  {
   "cell_type": "code",
   "execution_count": 59,
   "id": "1e85d7d4",
   "metadata": {},
   "outputs": [
    {
     "name": "stdout",
     "output_type": "stream",
     "text": [
      "vish\n",
      "patil\n",
      "[1, 2, 3, 4, 5]\n",
      "(3, 4, 5, 6)\n",
      "{3: 3, 'key1': 'vish', 'key2': 'patil'}\n"
     ]
    }
   ],
   "source": [
    "for i in t :\n",
    "    print(i)\n",
    "        "
   ]
  },
  {
   "cell_type": "code",
   "execution_count": 60,
   "id": "9ac10ec5",
   "metadata": {},
   "outputs": [
    {
     "name": "stdout",
     "output_type": "stream",
     "text": [
      "3\n",
      "3\n",
      "3\n"
     ]
    }
   ],
   "source": [
    "for i in t :\n",
    "    if type(i)== list or type(i)==tuple or type(i)==dict :\n",
    "        for j in i :\n",
    "            if j == 3 :\n",
    "                print(j)"
   ]
  },
  {
   "cell_type": "code",
   "execution_count": 61,
   "id": "ad6e2f13",
   "metadata": {},
   "outputs": [
    {
     "name": "stdout",
     "output_type": "stream",
     "text": [
      "3\n",
      "3\n",
      "3\n",
      "(3, 3)\n",
      "('key1', 'vish')\n",
      "('key2', 'patil')\n"
     ]
    }
   ],
   "source": [
    "for i in t :\n",
    "    if type(i)== list or type(i)==tuple or type(i)==dict :\n",
    "        for j in i :\n",
    "            if j == 3 :\n",
    "                print(j)\n",
    "    if type(i) == dict:\n",
    "        for k in i.items():\n",
    "            print(k)"
   ]
  },
  {
   "cell_type": "code",
   "execution_count": 62,
   "id": "a576aaba",
   "metadata": {},
   "outputs": [
    {
     "name": "stdout",
     "output_type": "stream",
     "text": [
      "3\n",
      "3\n",
      "3\n",
      "3\n",
      "3\n"
     ]
    }
   ],
   "source": [
    "for i in t :\n",
    "    if type(i)== list or type(i)==tuple or type(i)==dict :\n",
    "        for j in i :\n",
    "            if j == 3 :\n",
    "                print(j)\n",
    "    if type(i) == dict:\n",
    "        for k,l in i.items():\n",
    "            if k == 3 or l == 3:\n",
    "                print(k)\n",
    "                print(l)"
   ]
  },
  {
   "cell_type": "code",
   "execution_count": 63,
   "id": "10072d4c",
   "metadata": {},
   "outputs": [],
   "source": [
    "d={4:5,\"key1\":\"vish\",\"key2\":\"patil\"}"
   ]
  },
  {
   "cell_type": "code",
   "execution_count": 64,
   "id": "507d6755",
   "metadata": {},
   "outputs": [
    {
     "name": "stdout",
     "output_type": "stream",
     "text": [
      "(4, 5)\n",
      "('key1', 'vish')\n",
      "('key2', 'patil')\n"
     ]
    }
   ],
   "source": [
    "for i in d.items():\n",
    "    print(i)"
   ]
  },
  {
   "cell_type": "code",
   "execution_count": 65,
   "id": "351f9a12",
   "metadata": {},
   "outputs": [
    {
     "data": {
      "text/plain": [
       "dict_items([(4, 5), ('key1', 'vish'), ('key2', 'patil')])"
      ]
     },
     "execution_count": 65,
     "metadata": {},
     "output_type": "execute_result"
    }
   ],
   "source": [
    "d.items()"
   ]
  },
  {
   "cell_type": "code",
   "execution_count": 66,
   "id": "e7154744",
   "metadata": {},
   "outputs": [],
   "source": [
    "a=10\n",
    "b=20\n",
    "c=30"
   ]
  },
  {
   "cell_type": "code",
   "execution_count": 67,
   "id": "f6886ea7",
   "metadata": {},
   "outputs": [],
   "source": [
    "a,b,c=10,20,30"
   ]
  },
  {
   "cell_type": "code",
   "execution_count": 68,
   "id": "8ef5ed5e",
   "metadata": {},
   "outputs": [
    {
     "name": "stdout",
     "output_type": "stream",
     "text": [
      "ineuron \n",
      "\n",
      "ineuron ineuron \n",
      "\n",
      "ineuron ineuron ineuron \n",
      "\n",
      "ineuron ineuron ineuron ineuron \n",
      "\n"
     ]
    }
   ],
   "source": [
    "# Q1 :\n",
    "#ineuron\n",
    "#ineuron ineuron\n",
    "#ineuron ineuron ineuron\n",
    "#ineuron ineuron ineuron\n",
    "\n",
    "\n",
    "n = 4\n",
    "for i in range(4):\n",
    "    for j in range(0,i+1):\n",
    "        print(\"ineuron\", end= \" \")\n",
    "    print(\"\\n\")"
   ]
  },
  {
   "cell_type": "code",
   "execution_count": 69,
   "id": "23e1a83e",
   "metadata": {},
   "outputs": [
    {
     "name": "stdout",
     "output_type": "stream",
     "text": [
      "                    vish \n",
      "\n",
      "               vish vish vish \n",
      "\n",
      "          vish vish vish vish vish \n",
      "\n",
      "     vish vish vish vish vish vish vish \n",
      "\n",
      "vish vish vish vish vish vish vish vish vish \n",
      "\n"
     ]
    }
   ],
   "source": [
    "#Q2\n",
    "#         ineuron\n",
    "#   ineuron     ineuron\n",
    "#ineuron   ineuron    ineuron\n",
    "#    ineuron    ineuron\n",
    "#          ineuron\n",
    "\n",
    "\n",
    "n = 5 \n",
    "for i in range(n):\n",
    "    for j in range(i, n-1):\n",
    "        print(\" \" * len(\"vish\"),end=\" \")\n",
    "    for j in range(i+1):\n",
    "        print(\"vish\",end=\" \")\n",
    "    for j in range(i):\n",
    "        print(\"vish\",end=\" \")\n",
    "    print(\"\\n\")"
   ]
  },
  {
   "cell_type": "markdown",
   "id": "f86b3d9e",
   "metadata": {},
   "source": [
    "# while loop functions and operations"
   ]
  },
  {
   "cell_type": "code",
   "execution_count": null,
   "id": "7093767c",
   "metadata": {},
   "outputs": [],
   "source": [
    "a = 1\n",
    "b = 10\n",
    "\n",
    "while a<=b:\n",
    "    print(a)\n",
    "    a=a+1"
   ]
  },
  {
   "cell_type": "code",
   "execution_count": null,
   "id": "b6111eb5",
   "metadata": {},
   "outputs": [],
   "source": [
    "while a<=b:\n",
    "    print(a)\n",
    "    a=a+2\n",
    "else :\n",
    "    print(\"print this else block\")"
   ]
  },
  {
   "cell_type": "code",
   "execution_count": null,
   "id": "a676c098",
   "metadata": {},
   "outputs": [],
   "source": [
    "a=1\n",
    "b=10\n",
    "while a<=b:\n",
    "    print(a)\n",
    "    a=a+2\n",
    "else :\n",
    "    print(\"print this else block\")"
   ]
  },
  {
   "cell_type": "code",
   "execution_count": null,
   "id": "27cd52c9",
   "metadata": {},
   "outputs": [],
   "source": [
    "a =1\n",
    "b=10\n",
    "while a<=10:\n",
    "    print(a)\n",
    "    if a==5:\n",
    "        break\n",
    "    a = a+1\n",
    "else :\n",
    "    print(\"print this\")"
   ]
  },
  {
   "cell_type": "markdown",
   "id": "690be783",
   "metadata": {},
   "source": [
    "a = 1\n",
    "b=10\n",
    "while a<=b:\n",
    "    print(a)\n",
    "    if a == 3:\n",
    "        #continue\n",
    "    a = a+1\n",
    "    "
   ]
  },
  {
   "cell_type": "code",
   "execution_count": null,
   "id": "259b53f0",
   "metadata": {},
   "outputs": [],
   "source": [
    "a =1\n",
    "b=10\n",
    "while a<b:\n",
    "    \n",
    "    a = a+1\n",
    "    if a == 3:\n",
    "        continue\n",
    "    print(a)\n",
    "    "
   ]
  },
  {
   "cell_type": "code",
   "execution_count": null,
   "id": "062891f1",
   "metadata": {},
   "outputs": [],
   "source": [
    "l=[1,2,3,4,65,56]\n",
    "len(l)"
   ]
  },
  {
   "cell_type": "code",
   "execution_count": null,
   "id": "538341ae",
   "metadata": {},
   "outputs": [],
   "source": [
    "for i in l :\n",
    "    print(i)"
   ]
  },
  {
   "cell_type": "code",
   "execution_count": null,
   "id": "fc600f23",
   "metadata": {},
   "outputs": [],
   "source": [
    "a=0\n",
    "while a < len(l):\n",
    "    print(l[a])\n",
    "    a=a+1"
   ]
  },
  {
   "cell_type": "code",
   "execution_count": null,
   "id": "93e20dc0",
   "metadata": {},
   "outputs": [],
   "source": [
    "t = (3,4,5,6,7,8,9)\n",
    "len(t)"
   ]
  },
  {
   "cell_type": "code",
   "execution_count": null,
   "id": "f5cbb94a",
   "metadata": {},
   "outputs": [],
   "source": [
    "a=0\n",
    "while a < len(t):\n",
    "    if t[a]==6 or t[a]==7:\n",
    "        print(a)\n",
    "    a= a+1\n"
   ]
  },
  {
   "cell_type": "code",
   "execution_count": null,
   "id": "714457e7",
   "metadata": {},
   "outputs": [],
   "source": [
    "a=0\n",
    "while a<len(t):\n",
    "    if t[a]==6 or t[a]==7:\n",
    "        print(a)\n",
    "    if a==-len(t):\n",
    "        break\n",
    "    a-=1 "
   ]
  },
  {
   "cell_type": "code",
   "execution_count": null,
   "id": "a3f40f0b",
   "metadata": {},
   "outputs": [],
   "source": [
    "a=-1\n",
    "while a>-len(t):\n",
    "    if t[a]==6 or t[a]==7:\n",
    "        print(a)\n",
    "    a=a-1"
   ]
  },
  {
   "cell_type": "code",
   "execution_count": 39,
   "id": "114fc7c7",
   "metadata": {},
   "outputs": [],
   "source": [
    "t=(6,4,5,6,7,8,6)"
   ]
  },
  {
   "cell_type": "code",
   "execution_count": 40,
   "id": "8d3bd1a5",
   "metadata": {},
   "outputs": [],
   "source": [
    "d={'k1':'vish','k2':[1,2,3,4],\"k3\":(2,3,4,5)}"
   ]
  },
  {
   "cell_type": "code",
   "execution_count": 41,
   "id": "872e390f",
   "metadata": {},
   "outputs": [
    {
     "data": {
      "text/plain": [
       "3"
      ]
     },
     "execution_count": 41,
     "metadata": {},
     "output_type": "execute_result"
    }
   ],
   "source": [
    "len(d)"
   ]
  },
  {
   "cell_type": "code",
   "execution_count": 42,
   "id": "57a2a674",
   "metadata": {},
   "outputs": [
    {
     "name": "stdout",
     "output_type": "stream",
     "text": [
      "vish\n",
      "[1, 2, 3, 4]\n",
      "(2, 3, 4, 5)\n"
     ]
    }
   ],
   "source": [
    "a=0\n",
    "b=list(d.keys())\n",
    "while a<len(d):\n",
    "    print(d[b[a]])\n",
    "    \n",
    "    a=a+1"
   ]
  },
  {
   "cell_type": "code",
   "execution_count": 43,
   "id": "b50c17f7",
   "metadata": {},
   "outputs": [],
   "source": [
    "b=list(d.keys())"
   ]
  },
  {
   "cell_type": "code",
   "execution_count": 44,
   "id": "bb6492ba",
   "metadata": {},
   "outputs": [
    {
     "data": {
      "text/plain": [
       "['k1', 'k2', 'k3']"
      ]
     },
     "execution_count": 44,
     "metadata": {},
     "output_type": "execute_result"
    }
   ],
   "source": [
    "b"
   ]
  },
  {
   "cell_type": "code",
   "execution_count": null,
   "id": "b973473c",
   "metadata": {},
   "outputs": [],
   "source": []
  }
 ],
 "metadata": {
  "kernelspec": {
   "display_name": "Python 3 (ipykernel)",
   "language": "python",
   "name": "python3"
  },
  "language_info": {
   "codemirror_mode": {
    "name": "ipython",
    "version": 3
   },
   "file_extension": ".py",
   "mimetype": "text/x-python",
   "name": "python",
   "nbconvert_exporter": "python",
   "pygments_lexer": "ipython3",
   "version": "3.9.13"
  }
 },
 "nbformat": 4,
 "nbformat_minor": 5
}
